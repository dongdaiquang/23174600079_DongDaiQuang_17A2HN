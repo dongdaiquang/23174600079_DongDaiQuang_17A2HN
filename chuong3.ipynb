{
 "cells": [
  {
   "cell_type": "markdown",
   "metadata": {},
   "source": [
    "#3.1"
   ]
  },
  {
   "cell_type": "code",
   "execution_count": null,
   "metadata": {},
   "outputs": [],
   "source": [
    "import numpy as np\n",
    "np.__version__"
   ]
  },
  {
   "cell_type": "code",
   "execution_count": null,
   "metadata": {},
   "outputs": [],
   "source": [
    "np.show_config()"
   ]
  },
  {
   "cell_type": "markdown",
   "metadata": {},
   "source": [
    "#3.2"
   ]
  },
  {
   "cell_type": "code",
   "execution_count": null,
   "metadata": {},
   "outputs": [],
   "source": [
    "#1\n",
    "arr = np.arange(10)\n",
    "print(\"Mảng arr:\", arr)\n",
    "print(\"Kiểu dữ liệu của mảng arr:\", arr.dtype)\n",
    "print(\"Kích thước của mảng arr:\", arr.shape)\n",
    "#2\n",
    "arr_odd=arr[arr%2!=0]\n",
    "print(\"mang arr_odd\",arr_odd)\n",
    "arr_even=arr[arr%2==0]\n",
    "print(\"mang arr_even:\",arr_even)\n",
    "#3\n",
    "arr_update_1 = arr.copy()\n",
    "arr_update_1[arr % 2 != 0] = 100\n",
    "print(\"Mảng arr_update_1:\", arr_update_1)"
   ]
  },
  {
   "cell_type": "markdown",
   "metadata": {},
   "source": [
    "#3.3"
   ]
  },
  {
   "cell_type": "code",
   "execution_count": null,
   "metadata": {},
   "outputs": [],
   "source": [
    "#1\n",
    "arr_a=np.array([1,2,3,2,3,4,3,4,5,6])\n",
    "arr_b=np.array([7,2,10,2,7,4,9,4,9,8])\n",
    "arr_c = np.intersect1d(arr_a, arr_b)\n",
    "print(\"Mảng arr_c:\", arr_c)\n",
    "#2\n",
    "arr_d=np.setdiff1d(arr_a,arr_b)\n",
    "print(\"mang arr_d:\", arr_d)\n",
    "#3\n",
    "arr_e=np.array([2,6,1,9,10,3,27,8,625,16])\n",
    "arr_f=arr_e[(arr_e>=5)&(arr_e<=10)]\n",
    "print(\"mang arr_f\", arr_f)\n"
   ]
  },
  {
   "cell_type": "markdown",
   "metadata": {},
   "source": [
    "#3.4"
   ]
  },
  {
   "cell_type": "code",
   "execution_count": null,
   "metadata": {},
   "outputs": [],
   "source": [
    "#1\n",
    "arr_zeros=np.zeros(10,dtype=int)\n",
    "arr_zeros[4]=1\n",
    "print(\"mang zeros\", arr_zeros)\n",
    "#2\n",
    "arr_h=np.arange(10,25)\n",
    "arr_h_r=arr_h[::-1]\n",
    "print(\"mang arr_h\", arr_h)\n",
    "print(\"mang arr_h_r\", arr_h_r)\n",
    "#3\n",
    "arr_k=np.array([1,2,0,8,2,0,1,3,0,5,0])\n",
    "arr_1=arr_k[arr_k!=0]\n",
    "print(\"mang arr_1\", arr_1)\n",
    "#4\n",
    "arr_1 = np.append(arr_1, [10, 20])\n",
    "print(\"mang arr_1 them 10 va 20\", arr_1)\n",
    "#5\n",
    "arr_1=np.insert(arr_1,5,100)\n",
    "print(\"them 100 vao vt 5\", arr_1)\n",
    "#6\n",
    "arr_1=np.delete(arr_1,[0,1,3])\n",
    "print(\"xoa\", arr_1)"
   ]
  },
  {
   "cell_type": "markdown",
   "metadata": {},
   "source": [
    "#3.6"
   ]
  },
  {
   "cell_type": "code",
   "execution_count": null,
   "metadata": {},
   "outputs": [],
   "source": [
    "#1\n",
    "arr=np.full((3,3),True)\n",
    "print(\"mang arr\", arr)\n",
    "#2\n",
    "arr_1D=np.array([0,1,2,3,4,5,6,7,8])\n",
    "arr_2D=arr_1D.reshape((3,3))\n",
    "arr_2D[:, [0, 2]] = arr_2D[:, [2, 0]]\n",
    "print(\"hoan doi 1 voi 3:\", arr_2D)\n",
    "#3\n",
    "arr_2D[[0, 1]] = arr_2D[[1, 0]]\n",
    "print(\"hoan doi dong 1 voi 2\", arr_2D)\n",
    "#4\n",
    "arr_2D=arr_2D[::-1]\n",
    "print(\"dao nguoc dong\", arr_2D)\n",
    "#5\n",
    "arr_2D=arr_2D[:,::-1]\n",
    "print(\"dao nguoc cot\", arr_2D)"
   ]
  },
  {
   "cell_type": "markdown",
   "metadata": {},
   "source": [
    "#3.7"
   ]
  },
  {
   "cell_type": "code",
   "execution_count": null,
   "metadata": {},
   "outputs": [],
   "source": [
    "with open('baseball_2D.txt', 'r') as file:\n",
    "    baseball = [list(map(float, line.split())) for line in file]\n",
    "#1\n",
    "np_baseball=np.array(baseball)\n",
    "print(\"kieu loại dữ liêu:\", np_baseball.dtype)\n",
    "print(\"kich thuoc du lieu:\", np_baseball.shape)\n",
    "#2\n",
    "print(\"dong thu 50 cu du lieu\", np_baseball[49])\n",
    "#3\n",
    "np_weight=np_baseball[:,1]\n",
    "print(np_weight)\n",
    "#4\n",
    "print(\"chieu cao cua van dong vien 124:\", np_baseball[123:])"
   ]
  },
  {
   "cell_type": "markdown",
   "metadata": {},
   "source": [
    "#3.5"
   ]
  },
  {
   "cell_type": "code",
   "execution_count": null,
   "metadata": {},
   "outputs": [],
   "source": [
    "with open('Heights_1.txt', 'r') as file:\n",
    "    height_list = [float(line.strip()) for line in file]\n",
    "with open('weights_1.txt', 'r') as file:\n",
    "    weight_list = [float(line.strip()) for line in file]\n",
    "#1\n",
    "arr_height=np.array(height_list)\n",
    "#2\n",
    "arr_weight=np.array(weight_list)\n",
    "#3\n",
    "arr_height_m=arr_height*0.0254\n",
    "#4\n",
    "arr_weight_kg=arr_weight*0.453592\n",
    "#5\n",
    "arr_bmi=arr_weight_kg/(arr_height_m*arr_height_m)\n",
    "print(\"bmi:\", arr_bmi)\n",
    "#6\n",
    "arr_weight_50=arr_weight_kg[50]\n",
    "print(\"can nang tai vt 50:\", arr_weight_50)\n",
    "#7\n",
    "arr_height_m_100=arr_height_m[100:111]\n",
    "print(\"chieu cao tu 100-110:\",arr_height_m_100)\n",
    "#8\n",
    "arr_bmi_21=arr_bmi[arr_bmi<21]\n",
    "print(\"bmi<21:\", arr_bmi_21)\n",
    "#9\n",
    "arr_height_tb=np.mean[arr_height_m]\n",
    "arr_weight_tb=np.mean[arr_weight_kg]\n",
    "print(\"chieu cao tb:\", arr_height_tb)\n",
    "print(\"can nang tb\", arr_weight_tb)\n",
    "#10\n",
    "arr_height_max=np.max[arr_height_m]\n",
    "arr_weight_max=np.max[arr_weight_kg]\n",
    "print(\"chieu cao max:\", arr_height_max)\n",
    "print(\"can nang max:\", arr_weight_max)\n",
    "#11\n",
    "arr_height_min=np.min[arr_height_m]\n",
    "arr_weight_min=np.min[arr_weight_kg]\n",
    "print(\"chieu cao min:\", arr_height_min)\n",
    "print(\"can nang min:\", arr_weight_min)\n"
   ]
  },
  {
   "cell_type": "markdown",
   "metadata": {},
   "source": []
  }
 ],
 "metadata": {
  "kernelspec": {
   "display_name": "Python 3",
   "language": "python",
   "name": "python3"
  },
  "language_info": {
   "codemirror_mode": {
    "name": "ipython",
    "version": 3
   },
   "file_extension": ".py",
   "mimetype": "text/x-python",
   "name": "python",
   "nbconvert_exporter": "python",
   "pygments_lexer": "ipython3",
   "version": "3.10.7"
  }
 },
 "nbformat": 4,
 "nbformat_minor": 2
}
