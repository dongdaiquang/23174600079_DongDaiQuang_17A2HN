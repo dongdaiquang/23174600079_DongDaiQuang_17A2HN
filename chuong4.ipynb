{
 "cells": [
  {
   "cell_type": "markdown",
   "metadata": {},
   "source": [
    "#4.1"
   ]
  },
  {
   "cell_type": "code",
   "execution_count": null,
   "metadata": {},
   "outputs": [],
   "source": [
    "import numpy as np\n",
    "import pandas as pd\n",
    "mylist=list('abcedfghijklmnopqrstuvwxyz')\n",
    "myarr = np.arange(26)\n",
    "mydict = dict(zip(mylist, myarr))\n",
    "print(\"Series tu danh sach:\", pd.Series(mylist))\n",
    "print(\"Series tu numpy array\", pd.Series(myarr))\n",
    "print(\"Series tu tu dien\", pd.Series(mydict))\n",
    "\n"
   ]
  },
  {
   "cell_type": "markdown",
   "metadata": {},
   "source": [
    "#4.2"
   ]
  },
  {
   "cell_type": "code",
   "execution_count": null,
   "metadata": {},
   "outputs": [],
   "source": [
    "import pandas as pd\n",
    "mylist=list('abcedfghijklmnopqrstuvwxyz')\n",
    "myarr=np.arange(26)\n",
    "mydict=dict(zip(mylist, myarr))\n",
    "ser=pd.Series(mydict)\n",
    "df=ser.reset_index()\n",
    "df.columns=['Index','Value']\n",
    "print(df)"
   ]
  },
  {
   "cell_type": "markdown",
   "metadata": {},
   "source": [
    "#4.3"
   ]
  },
  {
   "cell_type": "code",
   "execution_count": null,
   "metadata": {},
   "outputs": [],
   "source": [
    "import numpy as np\n",
    "import pandas as pd\n",
    "ser1=pd.Series(list('abcedfghijklmnopqrstuvwxyz'))\n",
    "ser2=pd.Series(np.arange(26))\n",
    "df=pd.concat([ser1, ser2], axit=1)\n",
    "df.columns=['column1', 'column2']\n",
    "print(df)"
   ]
  },
  {
   "cell_type": "markdown",
   "metadata": {},
   "source": [
    "#4.4"
   ]
  },
  {
   "cell_type": "code",
   "execution_count": null,
   "metadata": {},
   "outputs": [],
   "source": [
    "import pandas as pd\n",
    "\n",
    "ser1 = pd.Series([1, 2, 3, 4, 5])\n",
    "ser2 = pd.Series([4, 5, 6, 7, 8])\n",
    "result1 = ser1[~ser1.isin(ser2)]\n",
    "print(result1)"
   ]
  },
  {
   "cell_type": "markdown",
   "metadata": {},
   "source": [
    "#4.5"
   ]
  },
  {
   "cell_type": "code",
   "execution_count": null,
   "metadata": {},
   "outputs": [],
   "source": [
    "import pandas as pd\n",
    "import numpy as np\n",
    "ser=pd.Series(np.random.normal(10, 5, 25))\n",
    "minimum=ser.min()\n",
    "percentile_25=ser.quatile(0.25)\n",
    "median_value=ser.median()\n",
    "percentile_75=ser.quatile(0.75)\n",
    "maximun=ser.max()\n",
    "\n"
   ]
  },
  {
   "cell_type": "markdown",
   "metadata": {},
   "source": [
    "#4.6\n",
    "ser=pd.Series(np.take(list('abcdefgh'), np,random.randit(8, size=30)))\n",
    "giải thích:\n",
    "-líst('abcdefgh'): la tạo ra một danh sách ký tự\n",
    "-np.random.randit(8, size=30): là tạo ra 30 số ngẫu nhiên trong khoảng 0-7\n",
    "-pd.Series: là tạo ra một chuỗi cấu trúc từ ccs ký tự ngẫu nhiên\n",
    "\n",
    "\n"
   ]
  },
  {
   "cell_type": "code",
   "execution_count": null,
   "metadata": {},
   "outputs": [],
   "source": [
    "import pandas as pd\n",
    "ser = pd.Series(np.take(list('abcdefgh'), np.random.randint(8, size=30)))\n",
    "so_lan=ser.value_counts()\n",
    "print('so_lan')\n"
   ]
  },
  {
   "cell_type": "markdown",
   "metadata": {},
   "source": [
    "#4.7"
   ]
  },
  {
   "cell_type": "code",
   "execution_count": null,
   "metadata": {},
   "outputs": [],
   "source": [
    "import pandas as pd\n",
    "import numpy as np\n",
    "np.random.RandomState(100)\n",
    "ser=pd.Series(np.random.randint(1, 5, [12]))\n",
    "print(\"Series ban đầu:\")\n",
    "print(ser)\n",
    "top_2 = ser.value_counts().nlargest(2).index\n",
    "ser = ser.where(ser.isin(top_2), 'Other')\n",
    "print(\"\\nSeries sau khi thay thế các giá trị ít phổ biến bằng 'Other':\")\n",
    "print(ser)"
   ]
  },
  {
   "cell_type": "markdown",
   "metadata": {},
   "source": [
    "#4.8"
   ]
  },
  {
   "cell_type": "code",
   "execution_count": null,
   "metadata": {},
   "outputs": [],
   "source": [
    "import pandas as pd\n",
    "import numpy as np\n",
    "ser=pd.Series(np.random.random(20))\n",
    "ser_ranked = pd.qcut(ser, q=10, labels=[f\"Phân vị {i}\" for i in range(1, 11)])\n",
    "print(ser_ranked)"
   ]
  },
  {
   "cell_type": "markdown",
   "metadata": {},
   "source": [
    "#4.9\n",
    "ser=pd.Series(np.random.randint(1, 10, 35))\n",
    "giải thích:\n",
    "-np.random.random: tạo ra ngẫu nhiên các số trong một khoảng nhất định 1-10 voi kich co 35 so\n",
    "-pd.Series: tao ra mot chuoi ngau nhien"
   ]
  },
  {
   "cell_type": "code",
   "execution_count": null,
   "metadata": {},
   "outputs": [],
   "source": [
    "import numpy as np\n",
    "import pandas as pd\n",
    "ser = pd.Series(np.random.randint(1, 10, 35))\n",
    "reshaped_array = ser.values.reshape(7, 5)\n",
    "df = pd.DataFrame(reshaped_array, columns=[f\"Col{i+1}\" for i in range(5)])\n",
    "print(\"DataFrame 7x5:\")\n",
    "print(df)\n"
   ]
  },
  {
   "cell_type": "markdown",
   "metadata": {},
   "source": [
    "#4.10"
   ]
  },
  {
   "cell_type": "code",
   "execution_count": null,
   "metadata": {},
   "outputs": [],
   "source": [
    "import pandas as pd\n",
    "import numpy as np\n",
    "ser=pd.Series(np.random.randint(1, 10, 7))\n",
    "vi_tri=np.where(ser%3==0)[0]\n",
    "print(\"vi tri boi 3\", vi_tri)"
   ]
  },
  {
   "cell_type": "markdown",
   "metadata": {},
   "source": [
    "#4.11"
   ]
  },
  {
   "cell_type": "code",
   "execution_count": null,
   "metadata": {},
   "outputs": [],
   "source": [
    "import pandas as pd\n",
    "ser=pd.Series(list('abcdefghijklmnopqrsstuvwxyz'))\n",
    "pos=[0, 4, 8, 14, 20]\n",
    "result=ser.iloc[pos]\n",
    "print(result)"
   ]
  },
  {
   "cell_type": "markdown",
   "metadata": {},
   "source": [
    "#4.12"
   ]
  },
  {
   "cell_type": "code",
   "execution_count": null,
   "metadata": {},
   "outputs": [],
   "source": [
    "import pandas as pd\n",
    "import numpy as np\n",
    "ser1=pd.Series(range(5))\n",
    "ser2=pd.Series(list('abcde'))\n",
    "horizontal_stack = pd.concat([ser1, ser2], axis=1)\n",
    "print(horizontal_stack)"
   ]
  },
  {
   "cell_type": "markdown",
   "metadata": {},
   "source": [
    "#4.13"
   ]
  },
  {
   "cell_type": "code",
   "execution_count": null,
   "metadata": {},
   "outputs": [],
   "source": [
    "import pandas as pd\n",
    "import numpy as pd\n",
    "ser1=pd.Series([10, 9, 6, 5, 3, 1, 12, 8, 13])\n",
    "ser2=pd.Series([1, 3, 10, 13])\n",
    "vi_tri = [ser1[ser1 == val].index[0] for val in ser2]\n",
    "print(vi_tri)"
   ]
  },
  {
   "cell_type": "markdown",
   "metadata": {},
   "source": [
    "#4.14"
   ]
  },
  {
   "cell_type": "code",
   "execution_count": null,
   "metadata": {},
   "outputs": [],
   "source": [
    "import pandas as pd\n",
    "import numpy as np\n",
    "truth=pd.Series(range(10))\n",
    "pred=pd.Series(range(10)) + np.random.random(10)\n",
    "sai_so_bp=np.mean((truth-pred)**2)\n",
    "print(\"sai_so_bp\")"
   ]
  },
  {
   "cell_type": "markdown",
   "metadata": {},
   "source": [
    "#4.15"
   ]
  },
  {
   "cell_type": "code",
   "execution_count": null,
   "metadata": {},
   "outputs": [],
   "source": [
    "import pandas as pd\n",
    "import numpy as np\n",
    "ser=pd.Series(['how', 'to', 'kick, ass?'])\n",
    "chuyen_doi=ser.str.capitalize()\n",
    "print(chuyen_doi)"
   ]
  },
  {
   "cell_type": "markdown",
   "metadata": {},
   "source": [
    "#4.16"
   ]
  },
  {
   "cell_type": "code",
   "execution_count": null,
   "metadata": {},
   "outputs": [],
   "source": [
    "import pandas as pd\n",
    "import numpy as np\n",
    "ser =pd.Series({1, 3, 6, 10, 15, 21, 27, 35})\n",
    "hieu=[ser[i]-ser[i-1] for i in range(1, len(ser))]\n",
    "print(hieu)"
   ]
  }
 ],
 "metadata": {
  "kernelspec": {
   "display_name": "Python 3",
   "language": "python",
   "name": "python3"
  },
  "language_info": {
   "name": "python",
   "version": "3.10.7"
  }
 },
 "nbformat": 4,
 "nbformat_minor": 2
}
